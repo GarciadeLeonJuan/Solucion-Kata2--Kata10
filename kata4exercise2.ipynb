{
 "cells": [
  {
   "cell_type": "code",
   "execution_count": 4,
   "metadata": {},
   "outputs": [
    {
     "name": "stdout",
     "output_type": "stream",
     "text": [
      "-------------------------------------------------------------------------------- \n",
      "Nombre del planeta: Marte  \n",
      "Gravedad en Ganímedes: 1.4300000000000002 m/s2 \n",
      "\n",
      "-------------------------------------------------------------------------------- \n",
      "Nombre del planeta: Marte  \n",
      "Gravedad en Ganímedes: 1.4300000000000002 m/s2 \n",
      "\n",
      "\n",
      "Datos de Gravedad sobre: Ganímedes\n",
      "-------------------------------------------------------------------------------\n",
      "Nombre del planeta: Marte \n",
      "Gravedad en Ganímedes: 0.00143 m/s2\n",
      "\n",
      "\n",
      "Datos de Gravedad sobre: Ganímedes\n",
      "-------------------------------------------------------------------------------\n",
      "Nombre del planeta: Marte \n",
      "Gravedad en Ganímedes: 1.4300000000000002 m/s2\n",
      "\n"
     ]
    }
   ],
   "source": [
    "# Datos con los que vamos a trabajar\n",
    "planeta = 'Marte '\n",
    "gravedad  = 0.00143\n",
    "nombre = 'Ganímedes'\n",
    "\n",
    "\n",
    "\n",
    "# Creamos el título\n",
    "title = f'datos de gravedad sobre {nombre}'\n",
    "\n",
    "# Creamos la plantilla\n",
    "hechos = f\"\"\"{'-'*80} \n",
    "Nombre del planeta: {planeta} \n",
    "Gravedad en {nombre}: {gravedad * 1000} m/s2 \n",
    "\"\"\"\n",
    "\n",
    "# Unión de ambas cadenas\n",
    "template = f\"\"\"{title.title()}{hechos} \"\"\" \n",
    "print(hechos)\n",
    "\n",
    "# Nuevos datos muestra\n",
    "planeta = 'Marte '\n",
    "gravedad  = 0.00143\n",
    "nombre = 'Ganímedes'\n",
    "\n",
    "# Comprobamos la plantilla\n",
    "print(hechos)\n",
    "new_template = \"\"\"\n",
    "Datos de Gravedad sobre: {nombre}\n",
    "-------------------------------------------------------------------------------\n",
    "Nombre del planeta: {planeta}\n",
    "Gravedad en {nombre}: {gravedad} m/s2\n",
    "\"\"\"\n",
    "print(new_template.format(nombre=nombre, planeta=planeta, gravedad=gravedad))\n",
    "# Pista: print(nueva_plantilla.format(variables))\n",
    "print(new_template.format(nombre=nombre, planeta=planeta, gravedad=gravedad*1000))"
   ]
  }
 ],
 "metadata": {
  "interpreter": {
   "hash": "28d82c2515b6bcafea193948836c6cbffd00b5a224817fabda1d0c0db80b109f"
  },
  "kernelspec": {
   "display_name": "Python 3.10.2 64-bit",
   "language": "python",
   "name": "python3"
  },
  "language_info": {
   "codemirror_mode": {
    "name": "ipython",
    "version": 3
   },
   "file_extension": ".py",
   "mimetype": "text/x-python",
   "name": "python",
   "nbconvert_exporter": "python",
   "pygments_lexer": "ipython3",
   "version": "3.10.2"
  },
  "orig_nbformat": 4
 },
 "nbformat": 4,
 "nbformat_minor": 2
}
