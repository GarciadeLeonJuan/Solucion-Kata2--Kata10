{
 "cells": [
  {
   "cell_type": "code",
   "execution_count": null,
   "metadata": {},
   "outputs": [],
   "source": [
    "asteroide = 19\n",
    "if asteroide > 20:\n",
    "    print('Look up! ¡Hay una luz mágica en el cielo!')\n",
    "elif asteroide == 20:\n",
    "    print('Look up! ¡Hay una luz mágica en el cielo!')\n",
    "else:\n",
    "    print('¡Nada que ver aquí!')"
   ]
  }
 ],
 "metadata": {
  "interpreter": {
   "hash": "28d82c2515b6bcafea193948836c6cbffd00b5a224817fabda1d0c0db80b109f"
  },
  "kernelspec": {
   "display_name": "Python 3.10.2 64-bit",
   "language": "python",
   "name": "python3"
  },
  "language_info": {
   "name": "python",
   "version": "3.10.2"
  },
  "orig_nbformat": 4
 },
 "nbformat": 4,
 "nbformat_minor": 2
}
